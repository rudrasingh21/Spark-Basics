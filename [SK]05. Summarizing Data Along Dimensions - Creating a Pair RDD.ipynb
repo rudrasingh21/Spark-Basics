{
 "cells": [
  {
   "cell_type": "code",
   "execution_count": 1,
   "metadata": {
    "collapsed": true
   },
   "outputs": [],
   "source": [
    "trafficPath = \"file:///home/ubuntu/Downloads/SparkBasic/Dodgers.data\"\n",
    "gamesPath = \"file:////home/ubuntu/Downloads/SparkBasic/Dodgers.events\""
   ]
  },
  {
   "cell_type": "code",
   "execution_count": 2,
   "metadata": {
    "collapsed": true
   },
   "outputs": [],
   "source": [
    "traffic = sc.textFile(trafficPath)"
   ]
  },
  {
   "cell_type": "code",
   "execution_count": 3,
   "metadata": {},
   "outputs": [
    {
     "data": {
      "text/plain": [
       "['4/10/2005 0:00,-1',\n",
       " '4/10/2005 0:05,-1',\n",
       " '4/10/2005 0:10,-1',\n",
       " '4/10/2005 0:15,-1',\n",
       " '4/10/2005 0:20,-1',\n",
       " '4/10/2005 0:25,-1',\n",
       " '4/10/2005 0:30,-1',\n",
       " '4/10/2005 0:35,-1',\n",
       " '4/10/2005 0:40,-1',\n",
       " '4/10/2005 0:45,-1']"
      ]
     },
     "execution_count": 3,
     "metadata": {},
     "output_type": "execute_result"
    }
   ],
   "source": [
    "traffic.take(10)"
   ]
  },
  {
   "cell_type": "code",
   "execution_count": 4,
   "metadata": {
    "collapsed": true
   },
   "outputs": [],
   "source": [
    "#each row represent 5 mnt of time interval and 2nd column represent number of cars passed by"
   ]
  },
  {
   "cell_type": "code",
   "execution_count": 5,
   "metadata": {
    "collapsed": true
   },
   "outputs": [],
   "source": [
    "games = sc.textFile(gamesPath)"
   ]
  },
  {
   "cell_type": "code",
   "execution_count": 6,
   "metadata": {},
   "outputs": [
    {
     "data": {
      "text/plain": [
       "['04/12/05,13:10:00,16:23:00,55892,San Francisco,W 9-8�',\n",
       " '04/13/05,19:10:00,21:48:00,46514,San Francisco,W 4-1�',\n",
       " '04/15/05,19:40:00,21:48:00,51816,San Diego,W 4-0�',\n",
       " '04/16/05,19:10:00,21:52:00,54704,San Diego,W 8-3�',\n",
       " '04/17/05,13:10:00,15:31:00,53402,San Diego,W 6-0�',\n",
       " '04/25/05,19:10:00,21:33:00,36876,Arizona,L 4-2�',\n",
       " '04/26/05,19:10:00,22:00:00,44486,Arizona,L 3-2�',\n",
       " '04/27/05,19:10:00,22:17:00,54387,Arizona,L 6-3�',\n",
       " '04/29/05,19:40:00,22:01:00,40150,Colorado,W 6-3�',\n",
       " '04/30/05,19:10:00,21:45:00,54123,Colorado,W 6-2�']"
      ]
     },
     "execution_count": 6,
     "metadata": {},
     "output_type": "execute_result"
    }
   ],
   "source": [
    "games.take(10)"
   ]
  },
  {
   "cell_type": "code",
   "execution_count": 7,
   "metadata": {
    "collapsed": true
   },
   "outputs": [],
   "source": [
    "#start abnd end time , number of ppl attended game, opponent, win loss info and score"
   ]
  },
  {
   "cell_type": "code",
   "execution_count": 11,
   "metadata": {},
   "outputs": [],
   "source": [
    "from datetime import datetime\n",
    "import csv\n",
    "from io import StringIO"
   ]
  },
  {
   "cell_type": "code",
   "execution_count": 16,
   "metadata": {
    "collapsed": true
   },
   "outputs": [],
   "source": [
    "def parseTraffic(row):\n",
    "    Date_fmt = \"%m/%d/%Y %H:%M\"\n",
    "    row = row.split(\",\")\n",
    "    row[0] = datetime.strptime(row[0],Date_fmt)\n",
    "    row[1] = int(row[1])\n",
    "    return (row[0],row[1])"
   ]
  },
  {
   "cell_type": "code",
   "execution_count": 17,
   "metadata": {
    "collapsed": true
   },
   "outputs": [],
   "source": [
    "trafficParshed = traffic.map(parseTraffic)"
   ]
  },
  {
   "cell_type": "code",
   "execution_count": 18,
   "metadata": {},
   "outputs": [
    {
     "data": {
      "text/plain": [
       "[(datetime.datetime(2005, 4, 10, 0, 0), -1),\n",
       " (datetime.datetime(2005, 4, 10, 0, 5), -1),\n",
       " (datetime.datetime(2005, 4, 10, 0, 10), -1),\n",
       " (datetime.datetime(2005, 4, 10, 0, 15), -1),\n",
       " (datetime.datetime(2005, 4, 10, 0, 20), -1),\n",
       " (datetime.datetime(2005, 4, 10, 0, 25), -1),\n",
       " (datetime.datetime(2005, 4, 10, 0, 30), -1),\n",
       " (datetime.datetime(2005, 4, 10, 0, 35), -1),\n",
       " (datetime.datetime(2005, 4, 10, 0, 40), -1),\n",
       " (datetime.datetime(2005, 4, 10, 0, 45), -1)]"
      ]
     },
     "execution_count": 18,
     "metadata": {},
     "output_type": "execute_result"
    }
   ],
   "source": [
    "trafficParshed.take(10)"
   ]
  },
  {
   "cell_type": "code",
   "execution_count": 19,
   "metadata": {},
   "outputs": [
    {
     "name": "stdout",
     "output_type": "stream",
     "text": [
      "(datetime.datetime(2005, 4, 10, 0, 0), -1)\n",
      "(datetime.datetime(2005, 4, 10, 0, 5), -1)\n",
      "(datetime.datetime(2005, 4, 10, 0, 10), -1)\n",
      "(datetime.datetime(2005, 4, 10, 0, 15), -1)\n",
      "(datetime.datetime(2005, 4, 10, 0, 20), -1)\n",
      "(datetime.datetime(2005, 4, 10, 0, 25), -1)\n",
      "(datetime.datetime(2005, 4, 10, 0, 30), -1)\n",
      "(datetime.datetime(2005, 4, 10, 0, 35), -1)\n",
      "(datetime.datetime(2005, 4, 10, 0, 40), -1)\n",
      "(datetime.datetime(2005, 4, 10, 0, 45), -1)\n"
     ]
    }
   ],
   "source": [
    "#or\n",
    "for i in trafficParshed.take(10): print(i)"
   ]
  },
  {
   "cell_type": "code",
   "execution_count": 20,
   "metadata": {
    "collapsed": true
   },
   "outputs": [],
   "source": [
    "#NOTE:- Each record is tuple now"
   ]
  },
  {
   "cell_type": "markdown",
   "metadata": {},
   "source": [
    "# reduceByKey"
   ]
  },
  {
   "cell_type": "code",
   "execution_count": 21,
   "metadata": {
    "collapsed": true
   },
   "outputs": [],
   "source": [
    "#Extract date from timestamp"
   ]
  },
  {
   "cell_type": "code",
   "execution_count": 24,
   "metadata": {
    "collapsed": true
   },
   "outputs": [],
   "source": [
    "dailyTrend = trafficParshed.map(lambda i: (i[0].date(),i[1]))"
   ]
  },
  {
   "cell_type": "code",
   "execution_count": 26,
   "metadata": {},
   "outputs": [
    {
     "data": {
      "text/plain": [
       "[(datetime.date(2005, 4, 10), -1),\n",
       " (datetime.date(2005, 4, 10), -1),\n",
       " (datetime.date(2005, 4, 10), -1),\n",
       " (datetime.date(2005, 4, 10), -1),\n",
       " (datetime.date(2005, 4, 10), -1),\n",
       " (datetime.date(2005, 4, 10), -1),\n",
       " (datetime.date(2005, 4, 10), -1),\n",
       " (datetime.date(2005, 4, 10), -1),\n",
       " (datetime.date(2005, 4, 10), -1),\n",
       " (datetime.date(2005, 4, 10), -1)]"
      ]
     },
     "execution_count": 26,
     "metadata": {},
     "output_type": "execute_result"
    }
   ],
   "source": [
    "dailyTrend.take(10)"
   ]
  },
  {
   "cell_type": "code",
   "execution_count": 27,
   "metadata": {
    "collapsed": true
   },
   "outputs": [],
   "source": [
    "dailyTrend_REDUCEBYKEY = dailyTrend.reduceByKey(lambda x,y:x+y)"
   ]
  },
  {
   "cell_type": "code",
   "execution_count": 28,
   "metadata": {},
   "outputs": [
    {
     "data": {
      "text/plain": [
       "[(datetime.date(2005, 4, 10), -288),\n",
       " (datetime.date(2005, 4, 11), 5062),\n",
       " (datetime.date(2005, 4, 12), 6822),\n",
       " (datetime.date(2005, 4, 13), 6742),\n",
       " (datetime.date(2005, 4, 14), 6423),\n",
       " (datetime.date(2005, 4, 15), 6459),\n",
       " (datetime.date(2005, 4, 16), 6002),\n",
       " (datetime.date(2005, 4, 17), 5322),\n",
       " (datetime.date(2005, 4, 18), 5600),\n",
       " (datetime.date(2005, 4, 19), 6049)]"
      ]
     },
     "execution_count": 28,
     "metadata": {},
     "output_type": "execute_result"
    }
   ],
   "source": [
    "dailyTrend_REDUCEBYKEY.take(10)"
   ]
  },
  {
   "cell_type": "raw",
   "metadata": {},
   "source": [
    "#Directly you can write\n",
    "dailyTrend = trafficParshed.map(lambda i: (i[0].date(),i[1]))\\\n",
    "                            .reduceByKey(lambda x,y:x+y)"
   ]
  },
  {
   "cell_type": "code",
   "execution_count": 31,
   "metadata": {},
   "outputs": [
    {
     "data": {
      "text/plain": [
       "[(datetime.date(2005, 7, 28), 7661),\n",
       " (datetime.date(2005, 7, 29), 7499),\n",
       " (datetime.date(2005, 8, 12), 7287),\n",
       " (datetime.date(2005, 7, 27), 7238),\n",
       " (datetime.date(2005, 9, 23), 7175),\n",
       " (datetime.date(2005, 7, 26), 7163),\n",
       " (datetime.date(2005, 5, 20), 7119),\n",
       " (datetime.date(2005, 8, 11), 7110),\n",
       " (datetime.date(2005, 9, 8), 7107),\n",
       " (datetime.date(2005, 9, 7), 7082)]"
      ]
     },
     "execution_count": 31,
     "metadata": {},
     "output_type": "execute_result"
    }
   ],
   "source": [
    "dailyTrend_REDUCEBYKEY.sortBy(lambda i:-i[1]).take(10)"
   ]
  },
  {
   "cell_type": "raw",
   "metadata": {},
   "source": [
    "NOTE:- soryBy to find out top 10 ,\n",
    "    -ve is used to do it in desc order"
   ]
  },
  {
   "cell_type": "code",
   "execution_count": null,
   "metadata": {
    "collapsed": true
   },
   "outputs": [],
   "source": []
  }
 ],
 "metadata": {
  "kernelspec": {
   "display_name": "Python 3",
   "language": "python",
   "name": "python3"
  },
  "language_info": {
   "codemirror_mode": {
    "name": "ipython",
    "version": 3
   },
   "file_extension": ".py",
   "mimetype": "text/x-python",
   "name": "python",
   "nbconvert_exporter": "python",
   "pygments_lexer": "ipython3",
   "version": "3.6.3"
  }
 },
 "nbformat": 4,
 "nbformat_minor": 2
}
