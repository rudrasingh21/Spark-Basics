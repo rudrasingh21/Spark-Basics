{
 "cells": [
  {
   "cell_type": "markdown",
   "metadata": {},
   "source": [
    "# Loading CSV as textFile:- "
   ]
  },
  {
   "cell_type": "code",
   "execution_count": 7,
   "metadata": {
    "collapsed": true
   },
   "outputs": [],
   "source": [
    "filepath = \"file:////home/ubuntu/Downloads/AAPL.csv\""
   ]
  },
  {
   "cell_type": "code",
   "execution_count": 8,
   "metadata": {},
   "outputs": [],
   "source": [
    "apple = sc.textFile(filepath)"
   ]
  },
  {
   "cell_type": "code",
   "execution_count": 11,
   "metadata": {},
   "outputs": [
    {
     "data": {
      "text/plain": [
       "pyspark.rdd.RDD"
      ]
     },
     "execution_count": 11,
     "metadata": {},
     "output_type": "execute_result"
    }
   ],
   "source": [
    "type(apple)"
   ]
  },
  {
   "cell_type": "code",
   "execution_count": 9,
   "metadata": {},
   "outputs": [
    {
     "data": {
      "text/plain": [
       "file:////home/ubuntu/Downloads/AAPL.csv MapPartitionsRDD[3] at textFile at NativeMethodAccessorImpl.java:0"
      ]
     },
     "execution_count": 9,
     "metadata": {},
     "output_type": "execute_result"
    }
   ],
   "source": [
    "apple"
   ]
  },
  {
   "cell_type": "code",
   "execution_count": 10,
   "metadata": {},
   "outputs": [
    {
     "data": {
      "text/plain": [
       "'Date,Open,High,Low,Close,Adj Close,Volume'"
      ]
     },
     "execution_count": 10,
     "metadata": {},
     "output_type": "execute_result"
    }
   ],
   "source": [
    "apple.first()"
   ]
  },
  {
   "cell_type": "code",
   "execution_count": 12,
   "metadata": {},
   "outputs": [
    {
     "data": {
      "text/plain": [
       "['Date,Open,High,Low,Close,Adj Close,Volume',\n",
       " '2018-12-31,158.529999,159.360001,156.479996,157.740005,157.740005,35003500']"
      ]
     },
     "execution_count": 12,
     "metadata": {},
     "output_type": "execute_result"
    }
   ],
   "source": [
    "apple.take(2)"
   ]
  },
  {
   "cell_type": "raw",
   "metadata": {},
   "source": [
    "NOTE:- textFile :- each entry will be entire line."
   ]
  },
  {
   "cell_type": "code",
   "execution_count": 13,
   "metadata": {},
   "outputs": [
    {
     "data": {
      "text/plain": [
       "[['Date', 'Open', 'High', 'Low', 'Close', 'Adj Close', 'Volume'],\n",
       " ['2018-12-31',\n",
       "  '158.529999',\n",
       "  '159.360001',\n",
       "  '156.479996',\n",
       "  '157.740005',\n",
       "  '157.740005',\n",
       "  '35003500']]"
      ]
     },
     "execution_count": 13,
     "metadata": {},
     "output_type": "execute_result"
    }
   ],
   "source": [
    "apple.map(lambda i: i.split(',')).take(2)"
   ]
  },
  {
   "cell_type": "raw",
   "metadata": {},
   "source": [
    "NOTE:- Using map :- for each input line there is a output line"
   ]
  },
  {
   "cell_type": "raw",
   "metadata": {},
   "source": [
    "Use case:- while processing text logs"
   ]
  },
  {
   "cell_type": "markdown",
   "metadata": {},
   "source": [
    "# Using wholeTextFiles :-"
   ]
  },
  {
   "cell_type": "raw",
   "metadata": {},
   "source": [
    "wholeTextFiles():- Loads each file into rows, create a pair RDD, <key,value> , where Key is file name and value is whole file . can be a case for JSON\n",
    "\n",
    "sc.textFile() :- Each line mapped into a row .can be a case for log file\"\n"
   ]
  },
  {
   "cell_type": "code",
   "execution_count": 15,
   "metadata": {},
   "outputs": [],
   "source": [
    "apple_Whole = sc.wholeTextFiles(filepath)"
   ]
  },
  {
   "cell_type": "code",
   "execution_count": 16,
   "metadata": {},
   "outputs": [
    {
     "data": {
      "text/plain": [
       "pyspark.rdd.RDD"
      ]
     },
     "execution_count": 16,
     "metadata": {},
     "output_type": "execute_result"
    }
   ],
   "source": [
    "type(apple_Whole)"
   ]
  },
  {
   "cell_type": "code",
   "execution_count": 17,
   "metadata": {},
   "outputs": [
    {
     "data": {
      "text/plain": [
       "('file:/home/ubuntu/Downloads/AAPL.csv',\n",
       " 'Date,Open,High,Low,Close,Adj Close,Volume\\n2018-12-31,158.529999,159.360001,156.479996,157.740005,157.740005,35003500\\n2019-01-02,154.889999,158.850006,154.229996,157.919998,157.919998,37039700\\n2019-01-03,143.979996,145.720001,142.000000,142.190002,142.190002,91312200\\n2019-01-04,144.529999,148.550003,143.800003,148.259995,148.259995,58607100\\n2019-01-07,148.699997,148.830002,145.899994,147.929993,147.929993,54777800\\n2019-01-08,149.559998,151.820007,148.520004,150.750000,150.750000,41025300\\n2019-01-09,151.289993,154.529999,149.630005,153.309998,153.309998,45099100\\n2019-01-10,152.500000,153.970001,150.860001,153.800003,153.800003,35780700\\n2019-01-11,152.880005,153.699997,151.509995,152.289993,152.289993,27023200\\n2019-01-14,150.850006,151.270004,149.220001,150.000000,150.000000,32439200\\n2019-01-15,150.270004,153.389999,150.050003,153.070007,153.070007,28710900\\n2019-01-16,153.080002,155.880005,153.000000,154.940002,154.940002,30569700\\n2019-01-17,154.199997,157.660004,153.259995,155.860001,155.860001,29821200\\n2019-01-18,157.500000,157.880005,155.979996,156.820007,156.820007,33751000\\n2019-01-22,156.410004,156.729996,152.619995,153.300003,153.300003,30394000\\n2019-01-23,154.149994,155.139999,151.699997,153.919998,153.919998,23130600\\n2019-01-24,154.110001,154.479996,151.740005,152.699997,152.699997,25441500\\n2019-01-25,155.479996,158.130005,154.320007,157.759995,157.759995,33535500\\n2019-01-28,155.789993,156.330002,153.660004,156.300003,156.300003,26158500\\n')"
      ]
     },
     "execution_count": 17,
     "metadata": {},
     "output_type": "execute_result"
    }
   ],
   "source": [
    "apple_Whole.first()"
   ]
  },
  {
   "cell_type": "raw",
   "metadata": {},
   "source": [
    "NOTE:- You can see the diff :- using wholeTextFile we have entire file as a row in key, value format in output"
   ]
  },
  {
   "cell_type": "raw",
   "metadata": {},
   "source": [
    "Can be usefule incase of JSON file"
   ]
  },
  {
   "cell_type": "code",
   "execution_count": 19,
   "metadata": {},
   "outputs": [
    {
     "data": {
      "text/plain": [
       "'Date,Open,High,Low,Close,Adj Close,Volume\\n2018-12-31,158.529999,159.360001,156.479996,157.740005,157.740005,35003500\\n2019-01-02,154.889999,158.850006,154.229996,157.919998,157.919998,37039700\\n2019-01-03,143.979996,145.720001,142.000000,142.190002,142.190002,91312200\\n2019-01-04,144.529999,148.550003,143.800003,148.259995,148.259995,58607100\\n2019-01-07,148.699997,148.830002,145.899994,147.929993,147.929993,54777800\\n2019-01-08,149.559998,151.820007,148.520004,150.750000,150.750000,41025300\\n2019-01-09,151.289993,154.529999,149.630005,153.309998,153.309998,45099100\\n2019-01-10,152.500000,153.970001,150.860001,153.800003,153.800003,35780700\\n2019-01-11,152.880005,153.699997,151.509995,152.289993,152.289993,27023200\\n2019-01-14,150.850006,151.270004,149.220001,150.000000,150.000000,32439200\\n2019-01-15,150.270004,153.389999,150.050003,153.070007,153.070007,28710900\\n2019-01-16,153.080002,155.880005,153.000000,154.940002,154.940002,30569700\\n2019-01-17,154.199997,157.660004,153.259995,155.860001,155.860001,29821200\\n2019-01-18,157.500000,157.880005,155.979996,156.820007,156.820007,33751000\\n2019-01-22,156.410004,156.729996,152.619995,153.300003,153.300003,30394000\\n2019-01-23,154.149994,155.139999,151.699997,153.919998,153.919998,23130600\\n2019-01-24,154.110001,154.479996,151.740005,152.699997,152.699997,25441500\\n2019-01-25,155.479996,158.130005,154.320007,157.759995,157.759995,33535500\\n2019-01-28,155.789993,156.330002,153.660004,156.300003,156.300003,26158500\\n'"
      ]
     },
     "execution_count": 19,
     "metadata": {},
     "output_type": "execute_result"
    }
   ],
   "source": [
    "apple_Whole.collect()[0][1]"
   ]
  }
 ],
 "metadata": {
  "kernelspec": {
   "display_name": "Python 3",
   "language": "python",
   "name": "python3"
  },
  "language_info": {
   "codemirror_mode": {
    "name": "ipython",
    "version": 3
   },
   "file_extension": ".py",
   "mimetype": "text/x-python",
   "name": "python",
   "nbconvert_exporter": "python",
   "pygments_lexer": "ipython3",
   "version": "3.6.3"
  }
 },
 "nbformat": 4,
 "nbformat_minor": 2
}
