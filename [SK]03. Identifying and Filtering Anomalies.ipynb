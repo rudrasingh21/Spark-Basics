{
 "cells": [
  {
   "cell_type": "code",
   "execution_count": 6,
   "metadata": {},
   "outputs": [
    {
     "name": "stdout",
     "output_type": "stream",
     "text": [
      "from builtins import property as _property, tuple as _tuple\n",
      "from operator import itemgetter as _itemgetter\n",
      "from collections import OrderedDict\n",
      "\n",
      "class Crime(tuple):\n",
      "    'Crime(OBJECTID, Identifier, Occurrence_Date, Day_of_Week, Occurrence_Month, Occurrence_Day, Occurrence_Year, Occurrence_Hour, CompStat_Month, CompStat_Day, CompStat_Year, Offense, Offense_Classification, Sector, Precinct, Borough, Jurisdiction, XCoordinate, YCoordinate, Location_1)'\n",
      "\n",
      "    __slots__ = ()\n",
      "\n",
      "    _fields = ('OBJECTID', 'Identifier', 'Occurrence_Date', 'Day_of_Week', 'Occurrence_Month', 'Occurrence_Day', 'Occurrence_Year', 'Occurrence_Hour', 'CompStat_Month', 'CompStat_Day', 'CompStat_Year', 'Offense', 'Offense_Classification', 'Sector', 'Precinct', 'Borough', 'Jurisdiction', 'XCoordinate', 'YCoordinate', 'Location_1')\n",
      "\n",
      "    def __new__(_cls, OBJECTID, Identifier, Occurrence_Date, Day_of_Week, Occurrence_Month, Occurrence_Day, Occurrence_Year, Occurrence_Hour, CompStat_Month, CompStat_Day, CompStat_Year, Offense, Offense_Classification, Sector, Precinct, Borough, Jurisdiction, XCoordinate, YCoordinate, Location_1):\n",
      "        'Create new instance of Crime(OBJECTID, Identifier, Occurrence_Date, Day_of_Week, Occurrence_Month, Occurrence_Day, Occurrence_Year, Occurrence_Hour, CompStat_Month, CompStat_Day, CompStat_Year, Offense, Offense_Classification, Sector, Precinct, Borough, Jurisdiction, XCoordinate, YCoordinate, Location_1)'\n",
      "        return _tuple.__new__(_cls, (OBJECTID, Identifier, Occurrence_Date, Day_of_Week, Occurrence_Month, Occurrence_Day, Occurrence_Year, Occurrence_Hour, CompStat_Month, CompStat_Day, CompStat_Year, Offense, Offense_Classification, Sector, Precinct, Borough, Jurisdiction, XCoordinate, YCoordinate, Location_1))\n",
      "\n",
      "    @classmethod\n",
      "    def _make(cls, iterable, new=tuple.__new__, len=len):\n",
      "        'Make a new Crime object from a sequence or iterable'\n",
      "        result = new(cls, iterable)\n",
      "        if len(result) != 20:\n",
      "            raise TypeError('Expected 20 arguments, got %d' % len(result))\n",
      "        return result\n",
      "\n",
      "    def _replace(_self, **kwds):\n",
      "        'Return a new Crime object replacing specified fields with new values'\n",
      "        result = _self._make(map(kwds.pop, ('OBJECTID', 'Identifier', 'Occurrence_Date', 'Day_of_Week', 'Occurrence_Month', 'Occurrence_Day', 'Occurrence_Year', 'Occurrence_Hour', 'CompStat_Month', 'CompStat_Day', 'CompStat_Year', 'Offense', 'Offense_Classification', 'Sector', 'Precinct', 'Borough', 'Jurisdiction', 'XCoordinate', 'YCoordinate', 'Location_1'), _self))\n",
      "        if kwds:\n",
      "            raise ValueError('Got unexpected field names: %r' % list(kwds))\n",
      "        return result\n",
      "\n",
      "    def __repr__(self):\n",
      "        'Return a nicely formatted representation string'\n",
      "        return self.__class__.__name__ + '(OBJECTID=%r, Identifier=%r, Occurrence_Date=%r, Day_of_Week=%r, Occurrence_Month=%r, Occurrence_Day=%r, Occurrence_Year=%r, Occurrence_Hour=%r, CompStat_Month=%r, CompStat_Day=%r, CompStat_Year=%r, Offense=%r, Offense_Classification=%r, Sector=%r, Precinct=%r, Borough=%r, Jurisdiction=%r, XCoordinate=%r, YCoordinate=%r, Location_1=%r)' % self\n",
      "\n",
      "    def _asdict(self):\n",
      "        'Return a new OrderedDict which maps field names to their values.'\n",
      "        return OrderedDict(zip(self._fields, self))\n",
      "\n",
      "    def __getnewargs__(self):\n",
      "        'Return self as a plain tuple.  Used by copy and pickle.'\n",
      "        return tuple(self)\n",
      "\n",
      "    OBJECTID = _property(_itemgetter(0), doc='Alias for field number 0')\n",
      "\n",
      "    Identifier = _property(_itemgetter(1), doc='Alias for field number 1')\n",
      "\n",
      "    Occurrence_Date = _property(_itemgetter(2), doc='Alias for field number 2')\n",
      "\n",
      "    Day_of_Week = _property(_itemgetter(3), doc='Alias for field number 3')\n",
      "\n",
      "    Occurrence_Month = _property(_itemgetter(4), doc='Alias for field number 4')\n",
      "\n",
      "    Occurrence_Day = _property(_itemgetter(5), doc='Alias for field number 5')\n",
      "\n",
      "    Occurrence_Year = _property(_itemgetter(6), doc='Alias for field number 6')\n",
      "\n",
      "    Occurrence_Hour = _property(_itemgetter(7), doc='Alias for field number 7')\n",
      "\n",
      "    CompStat_Month = _property(_itemgetter(8), doc='Alias for field number 8')\n",
      "\n",
      "    CompStat_Day = _property(_itemgetter(9), doc='Alias for field number 9')\n",
      "\n",
      "    CompStat_Year = _property(_itemgetter(10), doc='Alias for field number 10')\n",
      "\n",
      "    Offense = _property(_itemgetter(11), doc='Alias for field number 11')\n",
      "\n",
      "    Offense_Classification = _property(_itemgetter(12), doc='Alias for field number 12')\n",
      "\n",
      "    Sector = _property(_itemgetter(13), doc='Alias for field number 13')\n",
      "\n",
      "    Precinct = _property(_itemgetter(14), doc='Alias for field number 14')\n",
      "\n",
      "    Borough = _property(_itemgetter(15), doc='Alias for field number 15')\n",
      "\n",
      "    Jurisdiction = _property(_itemgetter(16), doc='Alias for field number 16')\n",
      "\n",
      "    XCoordinate = _property(_itemgetter(17), doc='Alias for field number 17')\n",
      "\n",
      "    YCoordinate = _property(_itemgetter(18), doc='Alias for field number 18')\n",
      "\n",
      "    Location_1 = _property(_itemgetter(19), doc='Alias for field number 19')\n",
      "\n",
      "\n"
     ]
    }
   ],
   "source": [
    "filepath = \"file://///home/ubuntu/Downloads/SparkBasic/NYPD_7_Major_Felony_Incidents.csv\"\n",
    "NYPD = sc.textFile(filepath)\n",
    "\n",
    "header = NYPD.first()\n",
    "\n",
    "dataWOHeader = NYPD.filter(lambda i: i != header)\n",
    "\n",
    "import csv\n",
    "from io import StringIO\n",
    "from collections import namedtuple\n",
    "\n",
    "fields = header.replace(\" \",\"_\").replace(\"/\",\"_\").split(\",\")\n",
    "\n",
    "Crime = namedtuple('Crime', fields, verbose=True)\n",
    "\n",
    "def parse(row):\n",
    "    reader = csv.reader(StringIO(row))\n",
    "    row=next(reader)\n",
    "    return Crime(*row)\n",
    "\n",
    "crimes = dataWOHeader.map(parse)\n",
    "\n",
    "crimes.map(lambda i: i.Offense).countByValue()\n",
    "\n",
    "crimes.map(lambda i:i.Occurrence_Year).countByValue()\n",
    "\n",
    "crimesFiltered = crimes.filter(lambda i: not (i.Offense==\"NA\" or i.Occurrence_Year==''))\\\n",
    "                    .filter(lambda i: int(i.Occurrence_Year)>=2006)"
   ]
  },
  {
   "cell_type": "code",
   "execution_count": 3,
   "metadata": {
    "collapsed": true
   },
   "outputs": [],
   "source": [
    "def extractCoordi(location):\n",
    "    location_lat = float(location[1:location.index(\",\")])\n",
    "    location_lon = float(location[location.index(\",\")+1:-1])\n",
    "    return (location_lat,location_lon)"
   ]
  },
  {
   "cell_type": "code",
   "execution_count": 7,
   "metadata": {},
   "outputs": [
    {
     "data": {
      "text/plain": [
       "PythonRDD[12] at RDD at PythonRDD.scala:48"
      ]
     },
     "execution_count": 7,
     "metadata": {},
     "output_type": "execute_result"
    }
   ],
   "source": [
    "crimesFiltered.map(lambda i: extractCoordi(i.Location_1))"
   ]
  },
  {
   "cell_type": "markdown",
   "metadata": {},
   "source": [
    "# Use Reduce"
   ]
  },
  {
   "cell_type": "code",
   "execution_count": 11,
   "metadata": {},
   "outputs": [
    {
     "data": {
      "text/plain": [
       "(40.112709974, -77.519206334)"
      ]
     },
     "execution_count": 11,
     "metadata": {},
     "output_type": "execute_result"
    }
   ],
   "source": [
    "crimesFiltered.map(lambda i: extractCoordi(i.Location_1))\\\n",
    "                .reduce(lambda i,j:(min(i[0],j[0]),min(i[1],j[1])))"
   ]
  },
  {
   "cell_type": "code",
   "execution_count": 12,
   "metadata": {},
   "outputs": [
    {
     "data": {
      "text/plain": [
       "(59.5805088160001, -73.700716685)"
      ]
     },
     "execution_count": 12,
     "metadata": {},
     "output_type": "execute_result"
    }
   ],
   "source": [
    "crimesFiltered.map(lambda i: extractCoordi(i.Location_1))\\\n",
    "                .reduce(lambda i,j:(max(i[0],j[0]),max(i[1],j[1])))"
   ]
  },
  {
   "cell_type": "code",
   "execution_count": 13,
   "metadata": {
    "collapsed": true
   },
   "outputs": [],
   "source": [
    "#check boundries of US on Google Map and use filter to filter out useless data"
   ]
  },
  {
   "cell_type": "code",
   "execution_count": 14,
   "metadata": {
    "collapsed": true
   },
   "outputs": [],
   "source": [
    "crimesFinal = crimesFiltered.filter(lambda x:extractCoordi(x.Location_1)[0]>=40.47 and\\\n",
    "                                    extractCoordi(x.Location_1)[0]<=40.91 and \\\n",
    "                                   extractCoordi(x.Location_1)[1]>= -74.25 and \\\n",
    "                                   extractCoordi(x.Location_1)[1]<= -73.70)"
   ]
  },
  {
   "cell_type": "code",
   "execution_count": 15,
   "metadata": {},
   "outputs": [
    {
     "data": {
      "text/plain": [
       "defaultdict(int,\n",
       "            {'2006': 127825,\n",
       "             '2007': 120170,\n",
       "             '2008': 117329,\n",
       "             '2009': 105974,\n",
       "             '2010': 105600,\n",
       "             '2011': 107170,\n",
       "             '2012': 111751,\n",
       "             '2013': 111247,\n",
       "             '2014': 106825,\n",
       "             '2015': 102627})"
      ]
     },
     "execution_count": 15,
     "metadata": {},
     "output_type": "execute_result"
    }
   ],
   "source": [
    "#TREND BY YEAR\n",
    "\n",
    "crimesFinal.map(lambda i:i.Occurrence_Year).countByValue()"
   ]
  },
  {
   "cell_type": "markdown",
   "metadata": {},
   "source": [
    "# Summarizing and Visualizing Crime in NYC"
   ]
  },
  {
   "cell_type": "code",
   "execution_count": 19,
   "metadata": {},
   "outputs": [
    {
     "data": {
      "text/plain": [
       "defaultdict(int,\n",
       "            {'2006': 23055,\n",
       "             '2007': 21652,\n",
       "             '2008': 20726,\n",
       "             '2009': 19430,\n",
       "             '2010': 18686,\n",
       "             '2011': 18852,\n",
       "             '2012': 19303,\n",
       "             '2013': 17410,\n",
       "             '2014': 16827,\n",
       "             '2015': 14958})"
      ]
     },
     "execution_count": 19,
     "metadata": {},
     "output_type": "execute_result"
    }
   ],
   "source": [
    "crimesFinal.filter(lambda i : i.Offense == 'BURGLARY')\\\n",
    "                    .map(lambda i:i.Occurrence_Year)\\\n",
    "                    .countByValue()"
   ]
  },
  {
   "cell_type": "raw",
   "metadata": {},
   "source": [
    "NEXT:- Read GMAP module to plot a map of crime \n",
    "https://app.pluralsight.com/player?course=apache-spark-beginning-data-exploration-analysis&author=swetha-kolalapudi&name=apache-spark-beginning-data-exploration-analysis-m2&clip=7&mode=live"
   ]
  },
  {
   "cell_type": "code",
   "execution_count": null,
   "metadata": {
    "collapsed": true
   },
   "outputs": [],
   "source": []
  }
 ],
 "metadata": {
  "kernelspec": {
   "display_name": "Python 3",
   "language": "python",
   "name": "python3"
  },
  "language_info": {
   "codemirror_mode": {
    "name": "ipython",
    "version": 3
   },
   "file_extension": ".py",
   "mimetype": "text/x-python",
   "name": "python",
   "nbconvert_exporter": "python",
   "pygments_lexer": "ipython3",
   "version": "3.6.3"
  }
 },
 "nbformat": 4,
 "nbformat_minor": 2
}
