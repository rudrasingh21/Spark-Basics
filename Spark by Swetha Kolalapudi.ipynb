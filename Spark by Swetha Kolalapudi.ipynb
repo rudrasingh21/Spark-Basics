{
 "cells": [
  {
   "cell_type": "code",
   "execution_count": 3,
   "metadata": {},
   "outputs": [
    {
     "data": {
      "text/html": [
       "\n",
       "        <div>\n",
       "            <p><b>SparkContext</b></p>\n",
       "\n",
       "            <p><a href=\"http://LAPTOP-H0QDP2IK:4040\">Spark UI</a></p>\n",
       "\n",
       "            <dl>\n",
       "              <dt>Version</dt>\n",
       "                <dd><code>v2.3.1</code></dd>\n",
       "              <dt>Master</dt>\n",
       "                <dd><code>local[2]</code></dd>\n",
       "              <dt>AppName</dt>\n",
       "                <dd><code>PySparkShell</code></dd>\n",
       "            </dl>\n",
       "        </div>\n",
       "        "
      ],
      "text/plain": [
       "<SparkContext master=local[2] appName=PySparkShell>"
      ]
     },
     "execution_count": 3,
     "metadata": {},
     "output_type": "execute_result"
    }
   ],
   "source": [
    "sc"
   ]
  },
  {
   "cell_type": "code",
   "execution_count": 5,
   "metadata": {},
   "outputs": [],
   "source": [
    "filepath = \"D:\\Study\\Hadoop\\AAPL.csv\"\n",
    "#we are rading file from windows\n",
    "#Reading file from local machine of Windows"
   ]
  },
  {
   "cell_type": "code",
   "execution_count": 7,
   "metadata": {},
   "outputs": [],
   "source": [
    "apple = sc.textFile(filepath)"
   ]
  },
  {
   "cell_type": "code",
   "execution_count": 8,
   "metadata": {},
   "outputs": [
    {
     "data": {
      "text/plain": [
       "D:\\Study\\Hadoop\\AAPL.csv MapPartitionsRDD[3] at textFile at NativeMethodAccessorImpl.java:0"
      ]
     },
     "execution_count": 8,
     "metadata": {},
     "output_type": "execute_result"
    }
   ],
   "source": [
    "apple"
   ]
  },
  {
   "cell_type": "code",
   "execution_count": 9,
   "metadata": {},
   "outputs": [
    {
     "data": {
      "text/plain": [
       "pyspark.rdd.RDD"
      ]
     },
     "execution_count": 9,
     "metadata": {},
     "output_type": "execute_result"
    }
   ],
   "source": [
    "type(apple)"
   ]
  },
  {
   "cell_type": "code",
   "execution_count": 10,
   "metadata": {},
   "outputs": [
    {
     "data": {
      "text/plain": [
       "['Date,Open,High,Low,Close,Adj Close,Volume',\n",
       " '2018-06-08,191.169998,192.000000,189.770004,191.699997,191.699997,26656800',\n",
       " '2018-06-11,191.350006,191.970001,190.210007,191.229996,191.229996,18308500',\n",
       " '2018-06-12,191.389999,192.610001,191.149994,192.279999,192.279999,16911100',\n",
       " '2018-06-13,192.419998,192.880005,190.440002,190.699997,190.699997,21638400']"
      ]
     },
     "execution_count": 10,
     "metadata": {},
     "output_type": "execute_result"
    }
   ],
   "source": [
    "apple.take(5)"
   ]
  },
  {
   "cell_type": "code",
   "execution_count": 11,
   "metadata": {},
   "outputs": [
    {
     "data": {
      "text/plain": [
       "21"
      ]
     },
     "execution_count": 11,
     "metadata": {},
     "output_type": "execute_result"
    }
   ],
   "source": [
    "apple.count()"
   ]
  },
  {
   "cell_type": "code",
   "execution_count": 12,
   "metadata": {},
   "outputs": [
    {
     "data": {
      "text/plain": [
       "'Date,Open,High,Low,Close,Adj Close,Volume'"
      ]
     },
     "execution_count": 12,
     "metadata": {},
     "output_type": "execute_result"
    }
   ],
   "source": [
    "apple.first()"
   ]
  },
  {
   "cell_type": "code",
   "execution_count": 13,
   "metadata": {},
   "outputs": [
    {
     "data": {
      "text/plain": [
       "['Date,Open,High,Low,Close,Adj Close,Volume',\n",
       " '2018-06-08,191.169998,192.000000,189.770004,191.699997,191.699997,26656800',\n",
       " '2018-06-11,191.350006,191.970001,190.210007,191.229996,191.229996,18308500',\n",
       " '2018-06-12,191.389999,192.610001,191.149994,192.279999,192.279999,16911100',\n",
       " '2018-06-13,192.419998,192.880005,190.440002,190.699997,190.699997,21638400',\n",
       " '2018-06-14,191.550003,191.570007,190.220001,190.800003,190.800003,21610100',\n",
       " '2018-06-15,190.029999,190.160004,188.259995,188.839996,188.839996,61719200',\n",
       " '2018-06-18,187.880005,189.220001,187.199997,188.740005,188.740005,18484900',\n",
       " '2018-06-19,185.139999,186.330002,183.449997,185.690002,185.690002,33578500',\n",
       " '2018-06-20,186.350006,187.199997,185.729996,186.500000,186.500000,20628700',\n",
       " '2018-06-21,187.250000,188.350006,184.940002,185.460007,185.460007,25711900',\n",
       " '2018-06-22,186.119995,186.149994,184.699997,184.919998,184.919998,27200400',\n",
       " '2018-06-25,183.399994,184.919998,180.729996,182.169998,182.169998,31663100',\n",
       " '2018-06-26,182.990005,186.529999,182.539993,184.429993,184.429993,24569200',\n",
       " '2018-06-27,185.229996,187.279999,184.029999,184.160004,184.160004,25285300',\n",
       " '2018-06-28,184.100006,186.210007,183.800003,185.500000,185.500000,17365200',\n",
       " '2018-06-29,186.289993,187.190002,182.910004,185.110001,185.110001,22737700',\n",
       " '2018-07-02,183.820007,187.300003,183.419998,187.179993,187.179993,17731300',\n",
       " '2018-07-03,187.789993,187.949997,183.539993,183.919998,183.919998,13954800',\n",
       " '2018-07-05,185.259995,186.410004,184.279999,185.399994,185.399994,16604200',\n",
       " '2018-07-06,185.419998,188.429993,185.199997,187.970001,187.970001,17444400']"
      ]
     },
     "execution_count": 13,
     "metadata": {},
     "output_type": "execute_result"
    }
   ],
   "source": [
    "apple.collect()"
   ]
  }
 ],
 "metadata": {
  "kernelspec": {
   "display_name": "Python 3",
   "language": "python",
   "name": "python3"
  },
  "language_info": {
   "codemirror_mode": {
    "name": "ipython",
    "version": 3
   },
   "file_extension": ".py",
   "mimetype": "text/x-python",
   "name": "python",
   "nbconvert_exporter": "python",
   "pygments_lexer": "ipython3",
   "version": "3.6.4"
  }
 },
 "nbformat": 4,
 "nbformat_minor": 2
}
