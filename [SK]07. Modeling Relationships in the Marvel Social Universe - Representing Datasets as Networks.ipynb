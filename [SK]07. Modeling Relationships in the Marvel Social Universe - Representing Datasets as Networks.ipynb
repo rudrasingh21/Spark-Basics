{
 "cells": [
  {
   "cell_type": "code",
   "execution_count": 2,
   "metadata": {
    "collapsed": true
   },
   "outputs": [],
   "source": [
    "bookspath = \"file:///home/ubuntu/Downloads/SparkBasic/Books.txt\"\n",
    "characterspath = \"file:///home/ubuntu/Downloads/SparkBasic/Characters.txt\"\n",
    "edgespath = \"file:///home/ubuntu/Downloads/SparkBasic/Edges.txt\""
   ]
  },
  {
   "cell_type": "code",
   "execution_count": 16,
   "metadata": {},
   "outputs": [],
   "source": [
    "books = sc.textFile(bookspath)\n",
    "characters = sc.textFile(characterspath)\n"
   ]
  },
  {
   "cell_type": "code",
   "execution_count": 17,
   "metadata": {
    "collapsed": true
   },
   "outputs": [],
   "source": [
    "edges = sc.textFile(edgespath)"
   ]
  },
  {
   "cell_type": "code",
   "execution_count": 13,
   "metadata": {},
   "outputs": [
    {
     "data": {
      "text/plain": [
       "['Vertex 6487: AA2 35',\n",
       " 'Vertex 6488: M/PRM 35',\n",
       " 'Vertex 6489: M/PRM 36',\n",
       " 'Vertex 6490: M/PRM 37',\n",
       " 'Vertex 6491: WI? 9',\n",
       " 'Vertex 6492: AVF 4',\n",
       " 'Vertex 6493: AVF 5',\n",
       " 'Vertex 6494: H2 251',\n",
       " 'Vertex 6495: H2 252',\n",
       " 'Vertex 6496: COC 1']"
      ]
     },
     "execution_count": 13,
     "metadata": {},
     "output_type": "execute_result"
    }
   ],
   "source": [
    "books.take(10)"
   ]
  },
  {
   "cell_type": "code",
   "execution_count": null,
   "metadata": {},
   "outputs": [],
   "source": [
    "characters.take(30)"
   ]
  },
  {
   "cell_type": "code",
   "execution_count": 20,
   "metadata": {},
   "outputs": [
    {
     "data": {
      "text/plain": [
       "['*Vertices 19428 6486',\n",
       " '1 \"24-HOUR MAN/EMMANUEL\"',\n",
       " '2 \"3-D MAN/CHARLES CHAN\"',\n",
       " '3 \"4-D MAN/MERCURIO\"',\n",
       " '4 \"8-BALL/\"',\n",
       " '5 \"A\"',\n",
       " '6 \"A\\'YIN\"',\n",
       " '7 \"ABBOTT, JACK\"',\n",
       " '8 \"ABCISSA\"',\n",
       " '9 \"ABEL\"']"
      ]
     },
     "execution_count": 20,
     "metadata": {},
     "output_type": "execute_result"
    }
   ],
   "source": [
    "edges.take(10)"
   ]
  },
  {
   "cell_type": "code",
   "execution_count": 23,
   "metadata": {},
   "outputs": [],
   "source": [
    "def edgeFilter(row):\n",
    "    if '*' in row or '\"' in row:\n",
    "        return False\n",
    "    else:\n",
    "        return True\n"
   ]
  },
  {
   "cell_type": "code",
   "execution_count": 24,
   "metadata": {
    "collapsed": true
   },
   "outputs": [],
   "source": [
    "\n",
    "edgesFiltered = edges.filter(edgeFilter)"
   ]
  },
  {
   "cell_type": "code",
   "execution_count": 25,
   "metadata": {},
   "outputs": [
    {
     "data": {
      "text/plain": [
       "['1 6487',\n",
       " '2 6488 6489 6490 6491 6492 6493 6494 6495 6496',\n",
       " '3 6497 6498 6499 6500 6501 6502 6503 6504 6505',\n",
       " '4 6506 6507 6508',\n",
       " '5 6509 6510 6511',\n",
       " '6 6512 6513 6514 6515',\n",
       " '7 6516',\n",
       " '8 6517 6518',\n",
       " '9 6519 6520',\n",
       " '10 6521 6522 6523 6524 6525 6526 6527 6528 6529 6530 6531 6532 6533 6534 6535']"
      ]
     },
     "execution_count": 25,
     "metadata": {},
     "output_type": "execute_result"
    }
   ],
   "source": [
    "edgesFiltered.take(10)"
   ]
  },
  {
   "cell_type": "code",
   "execution_count": null,
   "metadata": {
    "collapsed": true
   },
   "outputs": [],
   "source": []
  }
 ],
 "metadata": {
  "kernelspec": {
   "display_name": "Python 3",
   "language": "python",
   "name": "python3"
  },
  "language_info": {
   "codemirror_mode": {
    "name": "ipython",
    "version": 3
   },
   "file_extension": ".py",
   "mimetype": "text/x-python",
   "name": "python",
   "nbconvert_exporter": "python",
   "pygments_lexer": "ipython3",
   "version": "3.6.3"
  }
 },
 "nbformat": 4,
 "nbformat_minor": 2
}
