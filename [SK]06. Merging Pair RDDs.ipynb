{
 "cells": [
  {
   "cell_type": "code",
   "execution_count": 17,
   "metadata": {
    "collapsed": true
   },
   "outputs": [],
   "source": [
    "trafficPath = \"file:///home/ubuntu/Downloads/SparkBasic/Dodgers.data\"\n",
    "gamesPath = \"file:////home/ubuntu/Downloads/SparkBasic/Dodgers.events\"\n",
    "\n",
    "traffic = sc.textFile(trafficPath)\n",
    "games = sc.textFile(gamesPath)\n",
    "\n",
    "from datetime import datetime\n",
    "import csv\n",
    "from io import StringIO\n",
    "\n",
    "def parseTraffic(row):\n",
    "    Date_fmt = \"%m/%d/%Y %H:%M\"\n",
    "    row = row.split(\",\")\n",
    "    row[0] = datetime.strptime(row[0],Date_fmt)\n",
    "    row[1] = int(row[1])\n",
    "    return (row[0],row[1])\n",
    "\n",
    "trafficParshed = traffic.map(parseTraffic)\n",
    "\n",
    "dailyTrend = trafficParshed.map(lambda i: (i[0].date(),i[1]))\\\n",
    "                            .reduceByKey(lambda x,y:x+y)\n",
    "    \n"
   ]
  },
  {
   "cell_type": "code",
   "execution_count": 18,
   "metadata": {},
   "outputs": [
    {
     "data": {
      "text/plain": [
       "[(datetime.date(2005, 7, 28), 7661),\n",
       " (datetime.date(2005, 7, 29), 7499),\n",
       " (datetime.date(2005, 8, 12), 7287),\n",
       " (datetime.date(2005, 7, 27), 7238),\n",
       " (datetime.date(2005, 9, 23), 7175),\n",
       " (datetime.date(2005, 7, 26), 7163),\n",
       " (datetime.date(2005, 5, 20), 7119),\n",
       " (datetime.date(2005, 8, 11), 7110),\n",
       " (datetime.date(2005, 9, 8), 7107),\n",
       " (datetime.date(2005, 9, 7), 7082)]"
      ]
     },
     "execution_count": 18,
     "metadata": {},
     "output_type": "execute_result"
    }
   ],
   "source": [
    "dailyTrend.sortBy(lambda i:-i[1]).take(10)"
   ]
  },
  {
   "cell_type": "raw",
   "metadata": {},
   "source": [
    "Merging this with games data , so that we can analyse traffic on the basis of game day"
   ]
  },
  {
   "cell_type": "markdown",
   "metadata": {},
   "source": [
    "# Merge 2 pair RDD based on the Keys"
   ]
  },
  {
   "cell_type": "code",
   "execution_count": 19,
   "metadata": {},
   "outputs": [
    {
     "data": {
      "text/plain": [
       "['04/12/05,13:10:00,16:23:00,55892,San Francisco,W 9-8�',\n",
       " '04/13/05,19:10:00,21:48:00,46514,San Francisco,W 4-1�']"
      ]
     },
     "execution_count": 19,
     "metadata": {},
     "output_type": "execute_result"
    }
   ],
   "source": [
    "games.take(2)"
   ]
  },
  {
   "cell_type": "code",
   "execution_count": 20,
   "metadata": {
    "collapsed": true
   },
   "outputs": [],
   "source": [
    "#Joining with Games"
   ]
  },
  {
   "cell_type": "code",
   "execution_count": 21,
   "metadata": {
    "collapsed": true
   },
   "outputs": [],
   "source": [
    "def parseGames(row):\n",
    "    DATE_FMT = \"%m/%d/%y\"\n",
    "    row = row.split(\",\")\n",
    "    row[0] = datetime.strptime(row[0],DATE_FMT).date()\n",
    "    return (row[0],row[4])"
   ]
  },
  {
   "cell_type": "code",
   "execution_count": 22,
   "metadata": {
    "collapsed": true
   },
   "outputs": [],
   "source": [
    "gamesParsed = games.map(parseGames)"
   ]
  },
  {
   "cell_type": "code",
   "execution_count": 23,
   "metadata": {},
   "outputs": [
    {
     "data": {
      "text/plain": [
       "[(datetime.date(2005, 4, 12), 'San Francisco'),\n",
       " (datetime.date(2005, 4, 13), 'San Francisco'),\n",
       " (datetime.date(2005, 4, 15), 'San Diego'),\n",
       " (datetime.date(2005, 4, 16), 'San Diego')]"
      ]
     },
     "execution_count": 23,
     "metadata": {},
     "output_type": "execute_result"
    }
   ],
   "source": [
    "gamesParsed.take(4)"
   ]
  },
  {
   "cell_type": "code",
   "execution_count": 24,
   "metadata": {
    "collapsed": true
   },
   "outputs": [],
   "source": [
    "dailyTrendJOIN = dailyTrend.leftOuterJoin(gamesParsed)"
   ]
  },
  {
   "cell_type": "code",
   "execution_count": 25,
   "metadata": {},
   "outputs": [
    {
     "data": {
      "text/plain": [
       "[(datetime.date(2005, 4, 10), (-288, None)),\n",
       " (datetime.date(2005, 4, 11), (5062, None)),\n",
       " (datetime.date(2005, 4, 14), (6423, None)),\n",
       " (datetime.date(2005, 4, 15), (6459, 'San Diego')),\n",
       " (datetime.date(2005, 4, 16), (6002, 'San Diego')),\n",
       " (datetime.date(2005, 4, 17), (5322, 'San Diego')),\n",
       " (datetime.date(2005, 4, 18), (5600, None)),\n",
       " (datetime.date(2005, 4, 19), (6049, None)),\n",
       " (datetime.date(2005, 4, 21), (5977, None)),\n",
       " (datetime.date(2005, 4, 22), (6038, None))]"
      ]
     },
     "execution_count": 25,
     "metadata": {},
     "output_type": "execute_result"
    }
   ],
   "source": [
    "dailyTrendJOIN.take(10)"
   ]
  },
  {
   "cell_type": "raw",
   "metadata": {},
   "source": [
    "function to know Game day or Regular Day"
   ]
  },
  {
   "cell_type": "code",
   "execution_count": 32,
   "metadata": {
    "collapsed": true
   },
   "outputs": [],
   "source": [
    "def checkGameDay(row):\n",
    "    if row[1][1] == None:\n",
    "        return (row[0],row[1][1],\"Regular Day\",row[1][0])\n",
    "    else:\n",
    "        return (row[0],row[1][1],\"Game Day\",row[1][0])"
   ]
  },
  {
   "cell_type": "code",
   "execution_count": 33,
   "metadata": {
    "collapsed": true
   },
   "outputs": [],
   "source": [
    "dailyTrendByGames = dailyTrendJOIN.map(checkGameDay)"
   ]
  },
  {
   "cell_type": "code",
   "execution_count": 34,
   "metadata": {},
   "outputs": [
    {
     "data": {
      "text/plain": [
       "[(datetime.date(2005, 4, 10), None, 'Regular Day', -288),\n",
       " (datetime.date(2005, 4, 11), None, 'Regular Day', 5062),\n",
       " (datetime.date(2005, 4, 14), None, 'Regular Day', 6423),\n",
       " (datetime.date(2005, 4, 15), 'San Diego', 'Game Day', 6459),\n",
       " (datetime.date(2005, 4, 16), 'San Diego', 'Game Day', 6002),\n",
       " (datetime.date(2005, 4, 17), 'San Diego', 'Game Day', 5322),\n",
       " (datetime.date(2005, 4, 18), None, 'Regular Day', 5600),\n",
       " (datetime.date(2005, 4, 19), None, 'Regular Day', 6049),\n",
       " (datetime.date(2005, 4, 21), None, 'Regular Day', 5977),\n",
       " (datetime.date(2005, 4, 22), None, 'Regular Day', 6038)]"
      ]
     },
     "execution_count": 34,
     "metadata": {},
     "output_type": "execute_result"
    }
   ],
   "source": [
    "dailyTrendByGames.take(10)"
   ]
  },
  {
   "cell_type": "code",
   "execution_count": 35,
   "metadata": {},
   "outputs": [
    {
     "data": {
      "text/plain": [
       "[(datetime.date(2005, 7, 28), 'Cincinnati', 'Game Day', 7661),\n",
       " (datetime.date(2005, 7, 29), 'St. Louis', 'Game Day', 7499),\n",
       " (datetime.date(2005, 8, 12), 'NY Mets', 'Game Day', 7287),\n",
       " (datetime.date(2005, 7, 27), 'Cincinnati', 'Game Day', 7238),\n",
       " (datetime.date(2005, 9, 23), 'Pittsburgh', 'Game Day', 7175),\n",
       " (datetime.date(2005, 7, 26), 'Cincinnati', 'Game Day', 7163),\n",
       " (datetime.date(2005, 5, 20), 'LA Angels', 'Game Day', 7119),\n",
       " (datetime.date(2005, 8, 11), 'Philadelphia', 'Game Day', 7110),\n",
       " (datetime.date(2005, 9, 8), None, 'Regular Day', 7107),\n",
       " (datetime.date(2005, 9, 7), 'San Francisco', 'Game Day', 7082)]"
      ]
     },
     "execution_count": 35,
     "metadata": {},
     "output_type": "execute_result"
    }
   ],
   "source": [
    "dailyTrendByGames.sortBy(lambda i:-i[3]).take(10)"
   ]
  },
  {
   "cell_type": "markdown",
   "metadata": {},
   "source": [
    "# combineByKey"
   ]
  },
  {
   "cell_type": "code",
   "execution_count": 36,
   "metadata": {
    "collapsed": true
   },
   "outputs": [],
   "source": [
    "#to find out average traffic on Game day / regular day"
   ]
  },
  {
   "cell_type": "raw",
   "metadata": {},
   "source": [
    "NOTE:- \n",
    "    1)compute sum per group using reduce by key\n",
    "    2)compute counte per grout using reduce by key\n",
    "    3)result of above 2 will be two seperate RDD\n",
    "    4)join \n",
    "    5)divide sum and count"
   ]
  },
  {
   "cell_type": "code",
   "execution_count": 42,
   "metadata": {},
   "outputs": [
    {
     "data": {
      "text/plain": [
       "[('Regular Day', 5651.833333333333), ('Game Day', 4633.048076923077)]"
      ]
     },
     "execution_count": 42,
     "metadata": {},
     "output_type": "execute_result"
    }
   ],
   "source": [
    "dailyTrendByGames.map(lambda i:(i[2],i[3]))\\\n",
    "                    .combineByKey(lambda value : (value,1),\\\n",
    "                    lambda acc, value:(acc[0]+value,acc[1]+1),\\\n",
    "                    lambda acc1,acc2:(acc1[0]+acc2[0],acc2[1]+acc2[1]))\\\n",
    "                    .mapValues(lambda i:i[0]/i[1])\\\n",
    "                    .collect()"
   ]
  },
  {
   "cell_type": "code",
   "execution_count": null,
   "metadata": {
    "collapsed": true
   },
   "outputs": [],
   "source": []
  }
 ],
 "metadata": {
  "kernelspec": {
   "display_name": "Python 3",
   "language": "python",
   "name": "python3"
  },
  "language_info": {
   "codemirror_mode": {
    "name": "ipython",
    "version": 3
   },
   "file_extension": ".py",
   "mimetype": "text/x-python",
   "name": "python",
   "nbconvert_exporter": "python",
   "pygments_lexer": "ipython3",
   "version": "3.6.3"
  }
 },
 "nbformat": 4,
 "nbformat_minor": 2
}
