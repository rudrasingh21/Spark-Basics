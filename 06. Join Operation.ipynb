{
 "cells": [
  {
   "cell_type": "code",
   "execution_count": 1,
   "metadata": {
    "collapsed": true
   },
   "outputs": [],
   "source": [
    "orders = sc.textFile(\"/home/ubuntu/Data-For-Spark/data-master/retail_db/orders/part-00000\")"
   ]
  },
  {
   "cell_type": "code",
   "execution_count": 2,
   "metadata": {},
   "outputs": [
    {
     "data": {
      "text/plain": [
       "'1,2013-07-25 00:00:00.0,11599,CLOSED'"
      ]
     },
     "execution_count": 2,
     "metadata": {},
     "output_type": "execute_result"
    }
   ],
   "source": [
    "orders.first()"
   ]
  },
  {
   "cell_type": "code",
   "execution_count": 3,
   "metadata": {
    "collapsed": true
   },
   "outputs": [],
   "source": [
    "ordersItem = sc.textFile(\"/home/ubuntu/Data-For-Spark/data-master/retail_db/order_items/part-00000\")"
   ]
  },
  {
   "cell_type": "code",
   "execution_count": 4,
   "metadata": {},
   "outputs": [
    {
     "data": {
      "text/plain": [
       "'1,1,957,1,299.98,299.98'"
      ]
     },
     "execution_count": 4,
     "metadata": {},
     "output_type": "execute_result"
    }
   ],
   "source": [
    "ordersItem.first()"
   ]
  },
  {
   "cell_type": "code",
   "execution_count": 11,
   "metadata": {},
   "outputs": [],
   "source": [
    "orders_map = orders.map(lambda i: (int(i.split(\",\")[0]), i.split(\",\")[1]))"
   ]
  },
  {
   "cell_type": "code",
   "execution_count": 12,
   "metadata": {},
   "outputs": [
    {
     "name": "stdout",
     "output_type": "stream",
     "text": [
      "(1, '2013-07-25 00:00:00.0')\n",
      "(2, '2013-07-25 00:00:00.0')\n",
      "(3, '2013-07-25 00:00:00.0')\n",
      "(4, '2013-07-25 00:00:00.0')\n",
      "(5, '2013-07-25 00:00:00.0')\n"
     ]
    }
   ],
   "source": [
    "for i in orders_map.take(5):print(i)"
   ]
  },
  {
   "cell_type": "code",
   "execution_count": 13,
   "metadata": {
    "collapsed": true
   },
   "outputs": [],
   "source": [
    "ordersItem_map = ordersItem.map(lambda i: (int(i.split(\",\")[1]),float(i.split(\",\")[4])))"
   ]
  },
  {
   "cell_type": "code",
   "execution_count": 15,
   "metadata": {},
   "outputs": [
    {
     "name": "stdout",
     "output_type": "stream",
     "text": [
      "(1, 299.98)\n",
      "(2, 199.99)\n",
      "(2, 250.0)\n",
      "(2, 129.99)\n",
      "(4, 49.98)\n"
     ]
    }
   ],
   "source": [
    "for i in ordersItem_map.take(5): print(i)"
   ]
  },
  {
   "cell_type": "code",
   "execution_count": 16,
   "metadata": {
    "collapsed": true
   },
   "outputs": [],
   "source": [
    "Final_JOIN = orders_map.join(ordersItem_map)"
   ]
  },
  {
   "cell_type": "code",
   "execution_count": 26,
   "metadata": {},
   "outputs": [
    {
     "name": "stdout",
     "output_type": "stream",
     "text": [
      "(2, ('2013-07-25 00:00:00.0', 199.99))\n",
      "(2, ('2013-07-25 00:00:00.0', 250.0))\n",
      "(2, ('2013-07-25 00:00:00.0', 129.99))\n",
      "(4, ('2013-07-25 00:00:00.0', 49.98))\n",
      "(4, ('2013-07-25 00:00:00.0', 299.95))\n",
      "(4, ('2013-07-25 00:00:00.0', 150.0))\n",
      "(4, ('2013-07-25 00:00:00.0', 199.92))\n",
      "(8, ('2013-07-25 00:00:00.0', 179.97))\n",
      "(8, ('2013-07-25 00:00:00.0', 299.95))\n",
      "(8, ('2013-07-25 00:00:00.0', 199.92))\n"
     ]
    }
   ],
   "source": [
    "for i in Final_JOIN.take(10): print(i)"
   ]
  },
  {
   "cell_type": "code",
   "execution_count": 22,
   "metadata": {},
   "outputs": [
    {
     "data": {
      "text/plain": [
       "172198"
      ]
     },
     "execution_count": 22,
     "metadata": {},
     "output_type": "execute_result"
    }
   ],
   "source": [
    "Final_JOIN.count()"
   ]
  },
  {
   "cell_type": "code",
   "execution_count": 18,
   "metadata": {
    "collapsed": true
   },
   "outputs": [],
   "source": [
    "Left_Outer_JOIN = orders_map.leftOuterJoin(ordersItem_map)"
   ]
  },
  {
   "cell_type": "code",
   "execution_count": 30,
   "metadata": {},
   "outputs": [
    {
     "name": "stdout",
     "output_type": "stream",
     "text": [
      "(2, ('2013-07-25 00:00:00.0', 199.99))\n",
      "(2, ('2013-07-25 00:00:00.0', 250.0))\n",
      "(2, ('2013-07-25 00:00:00.0', 129.99))\n",
      "(4, ('2013-07-25 00:00:00.0', 49.98))\n"
     ]
    }
   ],
   "source": [
    "for i in Left_Outer_JOIN.take(4): print(i)"
   ]
  },
  {
   "cell_type": "code",
   "execution_count": 20,
   "metadata": {},
   "outputs": [
    {
     "data": {
      "text/plain": [
       "183650"
      ]
     },
     "execution_count": 20,
     "metadata": {},
     "output_type": "execute_result"
    }
   ],
   "source": [
    "Left_Outer_JOIN.count()"
   ]
  },
  {
   "cell_type": "code",
   "execution_count": 25,
   "metadata": {},
   "outputs": [
    {
     "data": {
      "text/plain": [
       "pyspark.rdd.PipelinedRDD"
      ]
     },
     "execution_count": 25,
     "metadata": {},
     "output_type": "execute_result"
    }
   ],
   "source": [
    "type(Left_Outer_JOIN)"
   ]
  },
  {
   "cell_type": "raw",
   "metadata": {},
   "source": [
    "NOTE:- Eg:-\n",
    ">>> i[1]\n",
    "(32768, (u'2014-02-12 00:00:00.0', 129.99000000000001))\n",
    ">>> i[1][1]\n",
    "(u'2014-02-12 00:00:00.0', 129.99000000000001)\n",
    ">>> i[1][1][1]\n",
    "129.99000000000001"
   ]
  },
  {
   "cell_type": "code",
   "execution_count": 27,
   "metadata": {
    "collapsed": true
   },
   "outputs": [],
   "source": [
    "Left_Outer_JOIN_NONE = Left_Outer_JOIN.filter(lambda i: i[1][1] == None)"
   ]
  },
  {
   "cell_type": "code",
   "execution_count": 28,
   "metadata": {},
   "outputs": [
    {
     "name": "stdout",
     "output_type": "stream",
     "text": [
      "(6, ('2013-07-25 00:00:00.0', None))\n",
      "(22, ('2013-07-25 00:00:00.0', None))\n",
      "(26, ('2013-07-25 00:00:00.0', None))\n",
      "(32, ('2013-07-25 00:00:00.0', None))\n",
      "(40, ('2013-07-25 00:00:00.0', None))\n"
     ]
    }
   ],
   "source": [
    "for i in Left_Outer_JOIN_NONE.take(5): print(i)"
   ]
  },
  {
   "cell_type": "raw",
   "metadata": {},
   "source": [
    "NOTE:- Use Right Outer Join similarly"
   ]
  }
 ],
 "metadata": {
  "kernelspec": {
   "display_name": "Python 3",
   "language": "python",
   "name": "python3"
  },
  "language_info": {
   "codemirror_mode": {
    "name": "ipython",
    "version": 3
   },
   "file_extension": ".py",
   "mimetype": "text/x-python",
   "name": "python",
   "nbconvert_exporter": "python",
   "pygments_lexer": "ipython3",
   "version": "3.6.3"
  }
 },
 "nbformat": 4,
 "nbformat_minor": 2
}
