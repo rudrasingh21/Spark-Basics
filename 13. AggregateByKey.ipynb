{
 "cells": [
  {
   "cell_type": "raw",
   "metadata": {},
   "source": [
    "\"It takes three arguement. \n",
    "1) initilization value , \n",
    "2) Lambda function \n",
    "3)Lambda function\""
   ]
  },
  {
   "cell_type": "raw",
   "metadata": {},
   "source": [
    "aggregateByKey(zeroValue)(seqOp, combOp, [numPartitions])"
   ]
  },
  {
   "cell_type": "raw",
   "metadata": {},
   "source": [
    "It takes one Zero Value and Two Lambdda Functions"
   ]
  },
  {
   "cell_type": "code",
   "execution_count": 6,
   "metadata": {
    "collapsed": true
   },
   "outputs": [],
   "source": [
    "#Get Revenue and Count of each order ID using AggregateByKey"
   ]
  },
  {
   "cell_type": "markdown",
   "metadata": {},
   "source": [
    "# Revenue and Count of Item For Each Order ID"
   ]
  },
  {
   "cell_type": "code",
   "execution_count": 2,
   "metadata": {
    "collapsed": true
   },
   "outputs": [],
   "source": [
    "ordersItem = sc.textFile(\"/home/ubuntu/Data-For-Spark/data-master/retail_db/order_items/part-00000\")"
   ]
  },
  {
   "cell_type": "code",
   "execution_count": 3,
   "metadata": {},
   "outputs": [
    {
     "data": {
      "text/plain": [
       "'1,1,957,1,299.98,299.98'"
      ]
     },
     "execution_count": 3,
     "metadata": {},
     "output_type": "execute_result"
    }
   ],
   "source": [
    "ordersItem.first()"
   ]
  },
  {
   "cell_type": "code",
   "execution_count": 4,
   "metadata": {
    "collapsed": true
   },
   "outputs": [],
   "source": [
    "ordersItem_MAP = ordersItem.map(lambda i: (int(i.split(\",\")[1]),float(i.split(\",\")[4])))"
   ]
  },
  {
   "cell_type": "code",
   "execution_count": 5,
   "metadata": {},
   "outputs": [
    {
     "name": "stdout",
     "output_type": "stream",
     "text": [
      "(1, 299.98)\n",
      "(2, 199.99)\n",
      "(2, 250.0)\n",
      "(2, 129.99)\n",
      "(4, 49.98)\n",
      "(4, 299.95)\n",
      "(4, 150.0)\n",
      "(4, 199.92)\n",
      "(5, 299.98)\n",
      "(5, 299.95)\n"
     ]
    }
   ],
   "source": [
    "for i in ordersItem_MAP.take(10): print(i)"
   ]
  },
  {
   "cell_type": "code",
   "execution_count": 7,
   "metadata": {
    "collapsed": true
   },
   "outputs": [],
   "source": [
    "revenuePerOrder = ordersItem_MAP.aggregateByKey((0.0, 0),lambda x, y: (x[0] + y,x[1] + 1), lambda x, y: (x[0] +y[0], x[1] +y[1]))"
   ]
  },
  {
   "cell_type": "code",
   "execution_count": 8,
   "metadata": {},
   "outputs": [
    {
     "name": "stdout",
     "output_type": "stream",
     "text": [
      "(1, (299.98, 1))\n",
      "(2, (579.98, 3))\n",
      "(4, (699.85, 4))\n",
      "(5, (1129.8600000000001, 5))\n",
      "(7, (579.9200000000001, 3))\n",
      "(8, (729.8399999999999, 4))\n",
      "(9, (599.96, 3))\n",
      "(10, (651.9200000000001, 5))\n",
      "(11, (919.79, 5))\n",
      "(12, (1299.8700000000001, 5))\n"
     ]
    }
   ],
   "source": [
    "for i in revenuePerOrder.take(10): print(i)"
   ]
  },
  {
   "cell_type": "code",
   "execution_count": null,
   "metadata": {
    "collapsed": true
   },
   "outputs": [],
   "source": []
  }
 ],
 "metadata": {
  "kernelspec": {
   "display_name": "Python 3",
   "language": "python",
   "name": "python3"
  },
  "language_info": {
   "codemirror_mode": {
    "name": "ipython",
    "version": 3
   },
   "file_extension": ".py",
   "mimetype": "text/x-python",
   "name": "python",
   "nbconvert_exporter": "python",
   "pygments_lexer": "ipython3",
   "version": "3.6.3"
  }
 },
 "nbformat": 4,
 "nbformat_minor": 2
}
