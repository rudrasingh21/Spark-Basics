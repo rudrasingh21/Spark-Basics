{
 "cells": [
  {
   "cell_type": "markdown",
   "metadata": {},
   "source": [
    "# Global Ranking using takeOrdered or Top"
   ]
  },
  {
   "cell_type": "raw",
   "metadata": {},
   "source": [
    "NOTE:-\n",
    "takeOrdered ,sort the data in ascending order and get first 10 records \n",
    "\n",
    "Top , sort data in desc order and get first few elements."
   ]
  },
  {
   "cell_type": "code",
   "execution_count": 1,
   "metadata": {},
   "outputs": [],
   "source": [
    "products = sc.textFile(\"/home/ubuntu/Data-For-Spark/data-master/retail_db/products/part-00000\")"
   ]
  },
  {
   "cell_type": "code",
   "execution_count": 2,
   "metadata": {
    "collapsed": true
   },
   "outputs": [],
   "source": [
    "productsFILTER  = products.filter(lambda i: i.split(\",\")[4] != \"\")"
   ]
  },
  {
   "cell_type": "code",
   "execution_count": 6,
   "metadata": {},
   "outputs": [
    {
     "name": "stdout",
     "output_type": "stream",
     "text": [
      "1,2,Quest Q64 10 FT. x 10 FT. Slant Leg Instant U,,59.98,http://images.acmesports.sports/Quest+Q64+10+FT.+x+10+FT.+Slant+Leg+Instant+Up+Canopy\n"
     ]
    }
   ],
   "source": [
    "for i in productsFILTER.take(1): print (i)"
   ]
  },
  {
   "cell_type": "code",
   "execution_count": 7,
   "metadata": {
    "collapsed": true
   },
   "outputs": [],
   "source": [
    "topNProducts = productsFILTER.top(5,key=lambda k: float(k.split(\",\")[4]))"
   ]
  },
  {
   "cell_type": "code",
   "execution_count": 8,
   "metadata": {},
   "outputs": [
    {
     "name": "stdout",
     "output_type": "stream",
     "text": [
      "208,10,SOLE E35 Elliptical,,1999.99,http://images.acmesports.sports/SOLE+E35+Elliptical\n",
      "66,4,SOLE F85 Treadmill,,1799.99,http://images.acmesports.sports/SOLE+F85+Treadmill\n",
      "199,10,SOLE F85 Treadmill,,1799.99,http://images.acmesports.sports/SOLE+F85+Treadmill\n",
      "496,22,SOLE F85 Treadmill,,1799.99,http://images.acmesports.sports/SOLE+F85+Treadmill\n",
      "1048,47,\"Spalding Beast 60\"\" Glass Portable Basketball \",,1099.99,http://images.acmesports.sports/Spalding+Beast+60%22+Glass+Portable+Basketball+Hoop\n"
     ]
    }
   ],
   "source": [
    "for i in topNProducts: print (i)"
   ]
  },
  {
   "cell_type": "code",
   "execution_count": 10,
   "metadata": {},
   "outputs": [
    {
     "name": "stdout",
     "output_type": "stream",
     "text": [
      "Help on method top in module pyspark.rdd:\n",
      "\n",
      "top(num, key=None) method of pyspark.rdd.PipelinedRDD instance\n",
      "    Get the top N elements from an RDD.\n",
      "    \n",
      "    .. note:: This method should only be used if the resulting array is expected\n",
      "        to be small, as all the data is loaded into the driver's memory.\n",
      "    \n",
      "    .. note:: It returns the list sorted in descending order.\n",
      "    \n",
      "    >>> sc.parallelize([10, 4, 2, 12, 3]).top(1)\n",
      "    [12]\n",
      "    >>> sc.parallelize([2, 3, 4, 5, 6], 2).top(2)\n",
      "    [6, 5]\n",
      "    >>> sc.parallelize([10, 4, 2, 12, 3]).top(3, key=str)\n",
      "    [4, 3, 2]\n",
      "\n"
     ]
    }
   ],
   "source": [
    "help(productsFILTER.top)"
   ]
  },
  {
   "cell_type": "code",
   "execution_count": null,
   "metadata": {
    "collapsed": true
   },
   "outputs": [],
   "source": []
  }
 ],
 "metadata": {
  "kernelspec": {
   "display_name": "Python 3",
   "language": "python",
   "name": "python3"
  },
  "language_info": {
   "codemirror_mode": {
    "name": "ipython",
    "version": 3
   },
   "file_extension": ".py",
   "mimetype": "text/x-python",
   "name": "python",
   "nbconvert_exporter": "python",
   "pygments_lexer": "ipython3",
   "version": "3.6.3"
  }
 },
 "nbformat": 4,
 "nbformat_minor": 2
}
